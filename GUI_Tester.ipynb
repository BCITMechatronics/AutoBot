{
 "cells": [
  {
   "cell_type": "code",
   "execution_count": 2,
   "id": "2c049f36",
   "metadata": {},
   "outputs": [],
   "source": [
    "import tkinter as tk\n",
    "from tkinter import messagebox"
   ]
  },
  {
   "cell_type": "code",
   "execution_count": 3,
   "id": "71e2f5cd",
   "metadata": {},
   "outputs": [],
   "source": [
    "# Formal way to create UI through Tkinter\n",
    "class Application(tk.Frame):\n",
    "    def __init__(self, master=None):\n",
    "        super().__init__(master)\n",
    "        self.master = master\n",
    "        self.pack()\n",
    "        \n",
    "        self.createWidget()\n",
    "    \n",
    "    # Create widget below\n",
    "    def createWidget(self):\n",
    "        # Create Label01\n",
    "        self.label01 = tk.Label(self, text=\"Testing Commands\", width=50, height=2,\n",
    "                               bg=\"black\",fg=\"white\")\n",
    "        self.label01.pack()\n",
    "        \n",
    "        # Create Tensile Test button\n",
    "        self.btnTensile = tk.Button(self, text=\"Tensile Test\", command=self.tensileTest)\n",
    "        self.btnTensile.pack()\n",
    "        \n",
    "        # Create Exit Button\n",
    "        self.btnExit = tk.Button(self, text=\"Exit\", command=root.destroy)\n",
    "        self.btnExit.pack()\n",
    "        \n",
    "#         # Create Image Label\n",
    "#         global photo\n",
    "#         photo = tk.PhotoImage(file=\"IMG_4962.gif\")\n",
    "#         self.label03 = tk.Label(self, image=photo)\n",
    "#         self.label03.pack()\n",
    "        \n",
    "#         # Create Testing Label with border\n",
    "#         self.label04 = tk.Label(self,text=\"Testing Status\\nTesting Processing\\nTesting Done\",\n",
    "#                                 borderwidth=5,relief=\"solid\",justify=\"right\")\n",
    "#         self.label04.pack()\n",
    "        \n",
    "    def tensileTest(self):\n",
    "        messagebox.showinfo(\"Information\",\"Processing Tensile Test\")\n",
    "        \n",
    "\n",
    "root = tk.Tk()\n",
    "root.title(\"BCIT_AUTOBOT\")\n",
    "root.geometry(\"500x300+700+300\")\n",
    "app = Application(master=root)"
   ]
  },
  {
   "cell_type": "code",
   "execution_count": 60,
   "id": "75bf74dd",
   "metadata": {},
   "outputs": [
    {
     "data": {
      "text/plain": [
       "'1408503886848button_test'"
      ]
     },
     "execution_count": 60,
     "metadata": {},
     "output_type": "execute_result"
    }
   ],
   "source": [
    "btn01.bind(\"<Button-1>\",button_test)"
   ]
  },
  {
   "cell_type": "code",
   "execution_count": 4,
   "id": "38374836",
   "metadata": {},
   "outputs": [],
   "source": [
    "root.mainloop()"
   ]
  },
  {
   "cell_type": "code",
   "execution_count": null,
   "id": "091fb169",
   "metadata": {},
   "outputs": [],
   "source": []
  }
 ],
 "metadata": {
  "kernelspec": {
   "display_name": "Python 3 (ipykernel)",
   "language": "python",
   "name": "python3"
  },
  "language_info": {
   "codemirror_mode": {
    "name": "ipython",
    "version": 3
   },
   "file_extension": ".py",
   "mimetype": "text/x-python",
   "name": "python",
   "nbconvert_exporter": "python",
   "pygments_lexer": "ipython3",
   "version": "3.9.13"
  }
 },
 "nbformat": 4,
 "nbformat_minor": 5
}
